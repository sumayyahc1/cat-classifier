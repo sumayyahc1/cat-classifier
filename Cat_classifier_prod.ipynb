{
  "cells": [
    {
      "cell_type": "code",
      "execution_count": 9,
      "metadata": {
        "id": "q7Mgv2eSZuCW"
      },
      "outputs": [],
      "source": [
        "# All imports\n",
        "import os\n",
        "from pathlib import Path\n",
        "from fastai.vision.all import *\n",
        "from fastai.vision.widgets import *"
      ]
    },
    {
      "cell_type": "code",
      "execution_count": 11,
      "metadata": {
        "id": "_-f3G1PodTp4"
      },
      "outputs": [],
      "source": [
        "learn_inf = load_learner('cat_model.pkl')"
      ]
    },
    {
      "cell_type": "code",
      "execution_count": 12,
      "metadata": {
        "id": "Zhntr_9EdYOZ"
      },
      "outputs": [],
      "source": [
        "btn_upload = widgets.FileUpload()"
      ]
    },
    {
      "cell_type": "code",
      "execution_count": 13,
      "metadata": {
        "id": "uOoxKzaeeJTU"
      },
      "outputs": [],
      "source": [
        "btn_run = widgets.Button(description='Classify')\n",
        "out_pl = widgets.Output()\n",
        "out_pl.clear_output()\n",
        "lbl_pred = widgets.Label()"
      ]
    },
    {
      "cell_type": "code",
      "execution_count": 14,
      "metadata": {
        "id": "IrZnfnRMeP5J"
      },
      "outputs": [],
      "source": [
        "def on_click_classify(change):\n",
        " img = PILImage.create(btn_upload.data[-1])\n",
        " out_pl.clear_output()\n",
        " with out_pl: display(img.to_thumb(128,128))\n",
        " pred,pred_idx,probs = learn_inf.predict(img)\n",
        " lbl_pred.value = f'Prediction: {pred}; Probability: {probs[pred_idx]:.04f}'\n",
        "btn_run.on_click(on_click_classify)"
      ]
    },
    {
      "cell_type": "code",
      "execution_count": 15,
      "metadata": {
        "colab": {
          "base_uri": "https://localhost:8080/",
          "height": 241,
          "referenced_widgets": [
            "1048010b4462497aa40651887d342f32",
            "aae052b9f6b94384b17bbb6378863672",
            "14d7298048484ea185a6745ede46435d",
            "258e30da68244400a582b9957d7b8451",
            "a0237886612947bcae399bbc8ae690fc",
            "979160ef2f0642a89cee11c72b063d3f",
            "47dc1525e71c43faaaadda92eae7a5f4",
            "19d2ee4740b64eb2a90fa8f81520e4f8",
            "ddfad3846c66424cbb331f7a4f480902",
            "d1d48b0efcfb45ccb75d4d27ffc20929",
            "304c0f459b164e199df32a7d321840e4",
            "d3b74d086ed9450e90e84f200c246bbd",
            "f022f3baad744ddb97a15207609a2248",
            "6405b4fd6fe84febb5f757164d25e877",
            "bc437c173b4144b5bad9881c5975f755",
            "6a6fdc284b854b1394b3c9b068ef9ed8"
          ]
        },
        "id": "HQQExq1xeVP3",
        "outputId": "838b83cb-ea3b-4e82-ed9e-9079b82dc7d2"
      },
      "outputs": [
        {
          "data": {
            "application/vnd.jupyter.widget-view+json": {
              "model_id": "1048010b4462497aa40651887d342f32",
              "version_major": 2,
              "version_minor": 0
            },
            "text/plain": [
              "VBox(children=(Label(value='Select your cat!'), FileUpload(value={}, description='Upload'), Button(description…"
            ]
          },
          "metadata": {},
          "output_type": "display_data"
        },
        {
          "data": {
            "text/html": [
              "\n",
              "<style>\n",
              "    /* Turns off some styling */\n",
              "    progress {\n",
              "        /* gets rid of default border in Firefox and Opera. */\n",
              "        border: none;\n",
              "        /* Needs to be in here for Safari polyfill so background images work as expected. */\n",
              "        background-size: auto;\n",
              "    }\n",
              "    progress:not([value]), progress:not([value])::-webkit-progress-bar {\n",
              "        background: repeating-linear-gradient(45deg, #7e7e7e, #7e7e7e 10px, #5c5c5c 10px, #5c5c5c 20px);\n",
              "    }\n",
              "    .progress-bar-interrupted, .progress-bar-interrupted::-webkit-progress-bar {\n",
              "        background: #F44336;\n",
              "    }\n",
              "</style>\n"
            ],
            "text/plain": [
              "<IPython.core.display.HTML object>"
            ]
          },
          "metadata": {},
          "output_type": "display_data"
        },
        {
          "data": {
            "text/html": [],
            "text/plain": [
              "<IPython.core.display.HTML object>"
            ]
          },
          "metadata": {},
          "output_type": "display_data"
        }
      ],
      "source": [
        "VBox([widgets.Label('Select your cat!'),\n",
        " btn_upload, btn_run, out_pl, lbl_pred])"
      ]
    }
  ],
  "metadata": {
    "colab": {
      "provenance": []
    },
    "kernelspec": {
      "display_name": "Python 3",
      "name": "python3"
    },
    "language_info": {
      "name": "python"
    },
    "widgets": {
      "application/vnd.jupyter.widget-state+json": {
        "1048010b4462497aa40651887d342f32": {
          "model_module": "@jupyter-widgets/controls",
          "model_module_version": "1.5.0",
          "model_name": "VBoxModel",
          "state": {
            "_dom_classes": [],
            "_model_module": "@jupyter-widgets/controls",
            "_model_module_version": "1.5.0",
            "_model_name": "VBoxModel",
            "_view_count": null,
            "_view_module": "@jupyter-widgets/controls",
            "_view_module_version": "1.5.0",
            "_view_name": "VBoxView",
            "box_style": "",
            "children": [
              "IPY_MODEL_aae052b9f6b94384b17bbb6378863672",
              "IPY_MODEL_14d7298048484ea185a6745ede46435d",
              "IPY_MODEL_258e30da68244400a582b9957d7b8451",
              "IPY_MODEL_a0237886612947bcae399bbc8ae690fc",
              "IPY_MODEL_979160ef2f0642a89cee11c72b063d3f"
            ],
            "layout": "IPY_MODEL_47dc1525e71c43faaaadda92eae7a5f4"
          }
        },
        "14d7298048484ea185a6745ede46435d": {
          "model_module": "@jupyter-widgets/controls",
          "model_module_version": "1.5.0",
          "model_name": "FileUploadModel",
          "state": {
            "_counter": 1,
            "_dom_classes": [],
            "_model_module": "@jupyter-widgets/controls",
            "_model_module_version": "1.5.0",
            "_model_name": "FileUploadModel",
            "_view_count": null,
            "_view_module": "@jupyter-widgets/controls",
            "_view_module_version": "1.5.0",
            "_view_name": "FileUploadView",
            "accept": "",
            "button_style": "",
            "data": [
              null
            ],
            "description": "Upload",
            "description_tooltip": null,
            "disabled": false,
            "error": "",
            "icon": "upload",
            "layout": "IPY_MODEL_d1d48b0efcfb45ccb75d4d27ffc20929",
            "metadata": [
              {
                "lastModified": 1656852606000,
                "name": "IMG_6309.JPG",
                "size": 3940407,
                "type": "image/jpeg"
              }
            ],
            "multiple": false,
            "style": "IPY_MODEL_304c0f459b164e199df32a7d321840e4"
          }
        },
        "19d2ee4740b64eb2a90fa8f81520e4f8": {
          "model_module": "@jupyter-widgets/base",
          "model_module_version": "1.2.0",
          "model_name": "LayoutModel",
          "state": {
            "_model_module": "@jupyter-widgets/base",
            "_model_module_version": "1.2.0",
            "_model_name": "LayoutModel",
            "_view_count": null,
            "_view_module": "@jupyter-widgets/base",
            "_view_module_version": "1.2.0",
            "_view_name": "LayoutView",
            "align_content": null,
            "align_items": null,
            "align_self": null,
            "border": null,
            "bottom": null,
            "display": null,
            "flex": null,
            "flex_flow": null,
            "grid_area": null,
            "grid_auto_columns": null,
            "grid_auto_flow": null,
            "grid_auto_rows": null,
            "grid_column": null,
            "grid_gap": null,
            "grid_row": null,
            "grid_template_areas": null,
            "grid_template_columns": null,
            "grid_template_rows": null,
            "height": null,
            "justify_content": null,
            "justify_items": null,
            "left": null,
            "margin": null,
            "max_height": null,
            "max_width": null,
            "min_height": null,
            "min_width": null,
            "object_fit": null,
            "object_position": null,
            "order": null,
            "overflow": null,
            "overflow_x": null,
            "overflow_y": null,
            "padding": null,
            "right": null,
            "top": null,
            "visibility": null,
            "width": null
          }
        },
        "258e30da68244400a582b9957d7b8451": {
          "model_module": "@jupyter-widgets/controls",
          "model_module_version": "1.5.0",
          "model_name": "ButtonModel",
          "state": {
            "_dom_classes": [],
            "_model_module": "@jupyter-widgets/controls",
            "_model_module_version": "1.5.0",
            "_model_name": "ButtonModel",
            "_view_count": null,
            "_view_module": "@jupyter-widgets/controls",
            "_view_module_version": "1.5.0",
            "_view_name": "ButtonView",
            "button_style": "",
            "description": "Classify",
            "disabled": false,
            "icon": "",
            "layout": "IPY_MODEL_d3b74d086ed9450e90e84f200c246bbd",
            "style": "IPY_MODEL_f022f3baad744ddb97a15207609a2248",
            "tooltip": ""
          }
        },
        "304c0f459b164e199df32a7d321840e4": {
          "model_module": "@jupyter-widgets/controls",
          "model_module_version": "1.5.0",
          "model_name": "ButtonStyleModel",
          "state": {
            "_model_module": "@jupyter-widgets/controls",
            "_model_module_version": "1.5.0",
            "_model_name": "ButtonStyleModel",
            "_view_count": null,
            "_view_module": "@jupyter-widgets/base",
            "_view_module_version": "1.2.0",
            "_view_name": "StyleView",
            "button_color": null,
            "font_weight": ""
          }
        },
        "47dc1525e71c43faaaadda92eae7a5f4": {
          "model_module": "@jupyter-widgets/base",
          "model_module_version": "1.2.0",
          "model_name": "LayoutModel",
          "state": {
            "_model_module": "@jupyter-widgets/base",
            "_model_module_version": "1.2.0",
            "_model_name": "LayoutModel",
            "_view_count": null,
            "_view_module": "@jupyter-widgets/base",
            "_view_module_version": "1.2.0",
            "_view_name": "LayoutView",
            "align_content": null,
            "align_items": null,
            "align_self": null,
            "border": null,
            "bottom": null,
            "display": null,
            "flex": null,
            "flex_flow": null,
            "grid_area": null,
            "grid_auto_columns": null,
            "grid_auto_flow": null,
            "grid_auto_rows": null,
            "grid_column": null,
            "grid_gap": null,
            "grid_row": null,
            "grid_template_areas": null,
            "grid_template_columns": null,
            "grid_template_rows": null,
            "height": null,
            "justify_content": null,
            "justify_items": null,
            "left": null,
            "margin": null,
            "max_height": null,
            "max_width": null,
            "min_height": null,
            "min_width": null,
            "object_fit": null,
            "object_position": null,
            "order": null,
            "overflow": null,
            "overflow_x": null,
            "overflow_y": null,
            "padding": null,
            "right": null,
            "top": null,
            "visibility": null,
            "width": null
          }
        },
        "6405b4fd6fe84febb5f757164d25e877": {
          "model_module": "@jupyter-widgets/base",
          "model_module_version": "1.2.0",
          "model_name": "LayoutModel",
          "state": {
            "_model_module": "@jupyter-widgets/base",
            "_model_module_version": "1.2.0",
            "_model_name": "LayoutModel",
            "_view_count": null,
            "_view_module": "@jupyter-widgets/base",
            "_view_module_version": "1.2.0",
            "_view_name": "LayoutView",
            "align_content": null,
            "align_items": null,
            "align_self": null,
            "border": null,
            "bottom": null,
            "display": null,
            "flex": null,
            "flex_flow": null,
            "grid_area": null,
            "grid_auto_columns": null,
            "grid_auto_flow": null,
            "grid_auto_rows": null,
            "grid_column": null,
            "grid_gap": null,
            "grid_row": null,
            "grid_template_areas": null,
            "grid_template_columns": null,
            "grid_template_rows": null,
            "height": null,
            "justify_content": null,
            "justify_items": null,
            "left": null,
            "margin": null,
            "max_height": null,
            "max_width": null,
            "min_height": null,
            "min_width": null,
            "object_fit": null,
            "object_position": null,
            "order": null,
            "overflow": null,
            "overflow_x": null,
            "overflow_y": null,
            "padding": null,
            "right": null,
            "top": null,
            "visibility": null,
            "width": null
          }
        },
        "6a6fdc284b854b1394b3c9b068ef9ed8": {
          "model_module": "@jupyter-widgets/base",
          "model_module_version": "1.2.0",
          "model_name": "LayoutModel",
          "state": {
            "_model_module": "@jupyter-widgets/base",
            "_model_module_version": "1.2.0",
            "_model_name": "LayoutModel",
            "_view_count": null,
            "_view_module": "@jupyter-widgets/base",
            "_view_module_version": "1.2.0",
            "_view_name": "LayoutView",
            "align_content": null,
            "align_items": null,
            "align_self": null,
            "border": null,
            "bottom": null,
            "display": null,
            "flex": null,
            "flex_flow": null,
            "grid_area": null,
            "grid_auto_columns": null,
            "grid_auto_flow": null,
            "grid_auto_rows": null,
            "grid_column": null,
            "grid_gap": null,
            "grid_row": null,
            "grid_template_areas": null,
            "grid_template_columns": null,
            "grid_template_rows": null,
            "height": null,
            "justify_content": null,
            "justify_items": null,
            "left": null,
            "margin": null,
            "max_height": null,
            "max_width": null,
            "min_height": null,
            "min_width": null,
            "object_fit": null,
            "object_position": null,
            "order": null,
            "overflow": null,
            "overflow_x": null,
            "overflow_y": null,
            "padding": null,
            "right": null,
            "top": null,
            "visibility": null,
            "width": null
          }
        },
        "979160ef2f0642a89cee11c72b063d3f": {
          "model_module": "@jupyter-widgets/controls",
          "model_module_version": "1.5.0",
          "model_name": "LabelModel",
          "state": {
            "_dom_classes": [],
            "_model_module": "@jupyter-widgets/controls",
            "_model_module_version": "1.5.0",
            "_model_name": "LabelModel",
            "_view_count": null,
            "_view_module": "@jupyter-widgets/controls",
            "_view_module_version": "1.5.0",
            "_view_name": "LabelView",
            "description": "",
            "description_tooltip": null,
            "layout": "IPY_MODEL_6405b4fd6fe84febb5f757164d25e877",
            "placeholder": "​",
            "style": "IPY_MODEL_bc437c173b4144b5bad9881c5975f755",
            "value": "Prediction: bengal; Probability: 0.9967"
          }
        },
        "a0237886612947bcae399bbc8ae690fc": {
          "model_module": "@jupyter-widgets/output",
          "model_module_version": "1.0.0",
          "model_name": "OutputModel",
          "state": {
            "_dom_classes": [],
            "_model_module": "@jupyter-widgets/output",
            "_model_module_version": "1.0.0",
            "_model_name": "OutputModel",
            "_view_count": null,
            "_view_module": "@jupyter-widgets/output",
            "_view_module_version": "1.0.0",
            "_view_name": "OutputView",
            "layout": "IPY_MODEL_6a6fdc284b854b1394b3c9b068ef9ed8",
            "msg_id": "",
            "outputs": [
              {
                "data": {
                  "image/png": "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\n",
                  "text/plain": "<PIL.Image.Image image mode=RGB size=128x96>"
                },
                "metadata": {},
                "output_type": "display_data"
              }
            ]
          }
        },
        "aae052b9f6b94384b17bbb6378863672": {
          "model_module": "@jupyter-widgets/controls",
          "model_module_version": "1.5.0",
          "model_name": "LabelModel",
          "state": {
            "_dom_classes": [],
            "_model_module": "@jupyter-widgets/controls",
            "_model_module_version": "1.5.0",
            "_model_name": "LabelModel",
            "_view_count": null,
            "_view_module": "@jupyter-widgets/controls",
            "_view_module_version": "1.5.0",
            "_view_name": "LabelView",
            "description": "",
            "description_tooltip": null,
            "layout": "IPY_MODEL_19d2ee4740b64eb2a90fa8f81520e4f8",
            "placeholder": "​",
            "style": "IPY_MODEL_ddfad3846c66424cbb331f7a4f480902",
            "value": "Select your cat!"
          }
        },
        "bc437c173b4144b5bad9881c5975f755": {
          "model_module": "@jupyter-widgets/controls",
          "model_module_version": "1.5.0",
          "model_name": "DescriptionStyleModel",
          "state": {
            "_model_module": "@jupyter-widgets/controls",
            "_model_module_version": "1.5.0",
            "_model_name": "DescriptionStyleModel",
            "_view_count": null,
            "_view_module": "@jupyter-widgets/base",
            "_view_module_version": "1.2.0",
            "_view_name": "StyleView",
            "description_width": ""
          }
        },
        "d1d48b0efcfb45ccb75d4d27ffc20929": {
          "model_module": "@jupyter-widgets/base",
          "model_module_version": "1.2.0",
          "model_name": "LayoutModel",
          "state": {
            "_model_module": "@jupyter-widgets/base",
            "_model_module_version": "1.2.0",
            "_model_name": "LayoutModel",
            "_view_count": null,
            "_view_module": "@jupyter-widgets/base",
            "_view_module_version": "1.2.0",
            "_view_name": "LayoutView",
            "align_content": null,
            "align_items": null,
            "align_self": null,
            "border": null,
            "bottom": null,
            "display": null,
            "flex": null,
            "flex_flow": null,
            "grid_area": null,
            "grid_auto_columns": null,
            "grid_auto_flow": null,
            "grid_auto_rows": null,
            "grid_column": null,
            "grid_gap": null,
            "grid_row": null,
            "grid_template_areas": null,
            "grid_template_columns": null,
            "grid_template_rows": null,
            "height": null,
            "justify_content": null,
            "justify_items": null,
            "left": null,
            "margin": null,
            "max_height": null,
            "max_width": null,
            "min_height": null,
            "min_width": null,
            "object_fit": null,
            "object_position": null,
            "order": null,
            "overflow": null,
            "overflow_x": null,
            "overflow_y": null,
            "padding": null,
            "right": null,
            "top": null,
            "visibility": null,
            "width": null
          }
        },
        "d3b74d086ed9450e90e84f200c246bbd": {
          "model_module": "@jupyter-widgets/base",
          "model_module_version": "1.2.0",
          "model_name": "LayoutModel",
          "state": {
            "_model_module": "@jupyter-widgets/base",
            "_model_module_version": "1.2.0",
            "_model_name": "LayoutModel",
            "_view_count": null,
            "_view_module": "@jupyter-widgets/base",
            "_view_module_version": "1.2.0",
            "_view_name": "LayoutView",
            "align_content": null,
            "align_items": null,
            "align_self": null,
            "border": null,
            "bottom": null,
            "display": null,
            "flex": null,
            "flex_flow": null,
            "grid_area": null,
            "grid_auto_columns": null,
            "grid_auto_flow": null,
            "grid_auto_rows": null,
            "grid_column": null,
            "grid_gap": null,
            "grid_row": null,
            "grid_template_areas": null,
            "grid_template_columns": null,
            "grid_template_rows": null,
            "height": null,
            "justify_content": null,
            "justify_items": null,
            "left": null,
            "margin": null,
            "max_height": null,
            "max_width": null,
            "min_height": null,
            "min_width": null,
            "object_fit": null,
            "object_position": null,
            "order": null,
            "overflow": null,
            "overflow_x": null,
            "overflow_y": null,
            "padding": null,
            "right": null,
            "top": null,
            "visibility": null,
            "width": null
          }
        },
        "ddfad3846c66424cbb331f7a4f480902": {
          "model_module": "@jupyter-widgets/controls",
          "model_module_version": "1.5.0",
          "model_name": "DescriptionStyleModel",
          "state": {
            "_model_module": "@jupyter-widgets/controls",
            "_model_module_version": "1.5.0",
            "_model_name": "DescriptionStyleModel",
            "_view_count": null,
            "_view_module": "@jupyter-widgets/base",
            "_view_module_version": "1.2.0",
            "_view_name": "StyleView",
            "description_width": ""
          }
        },
        "f022f3baad744ddb97a15207609a2248": {
          "model_module": "@jupyter-widgets/controls",
          "model_module_version": "1.5.0",
          "model_name": "ButtonStyleModel",
          "state": {
            "_model_module": "@jupyter-widgets/controls",
            "_model_module_version": "1.5.0",
            "_model_name": "ButtonStyleModel",
            "_view_count": null,
            "_view_module": "@jupyter-widgets/base",
            "_view_module_version": "1.2.0",
            "_view_name": "StyleView",
            "button_color": null,
            "font_weight": ""
          }
        }
      }
    }
  },
  "nbformat": 4,
  "nbformat_minor": 0
}
