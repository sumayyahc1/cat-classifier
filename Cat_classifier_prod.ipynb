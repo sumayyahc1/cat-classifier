{
  "cells": [
    {
      "cell_type": "markdown",
      "metadata": {
        "colab_type": "text",
        "id": "view-in-github"
      },
      "source": [
        "<a href=\"https://colab.research.google.com/github/sumayyahc1/cat-classifier/blob/main/Cat_classifier_prod.ipynb\" target=\"_parent\"><img src=\"https://colab.research.google.com/assets/colab-badge.svg\" alt=\"Open In Colab\"/></a>"
      ]
    },
    {
      "cell_type": "code",
      "execution_count": null,
      "metadata": {
        "colab": {
          "base_uri": "https://localhost:8080/"
        },
        "id": "q7Mgv2eSZuCW",
        "outputId": "e6d24a3c-0dca-4c41-a590-982104172d43"
      },
      "outputs": [
        {
          "name": "stdout",
          "output_type": "stream",
          "text": [
            "\u001b[2K     \u001b[90m━━━━━━━━━━━━━━━━━━━━━━━━━━━━━━━━━━━━━━━\u001b[0m \u001b[32m719.8/719.8 kB\u001b[0m \u001b[31m4.9 MB/s\u001b[0m eta \u001b[36m0:00:00\u001b[0m\n",
            "\u001b[2K     \u001b[90m━━━━━━━━━━━━━━━━━━━━━━━━━━━━━━━━━━━━━━━━\u001b[0m \u001b[32m7.4/7.4 MB\u001b[0m \u001b[31m19.3 MB/s\u001b[0m eta \u001b[36m0:00:00\u001b[0m\n",
            "\u001b[2K     \u001b[90m━━━━━━━━━━━━━━━━━━━━━━━━━━━━━━━━━━━━━━\u001b[0m \u001b[32m519.3/519.3 kB\u001b[0m \u001b[31m32.0 MB/s\u001b[0m eta \u001b[36m0:00:00\u001b[0m\n",
            "\u001b[2K     \u001b[90m━━━━━━━━━━━━━━━━━━━━━━━━━━━━━━━━━━━━━━━━\u001b[0m \u001b[32m1.3/1.3 MB\u001b[0m \u001b[31m31.6 MB/s\u001b[0m eta \u001b[36m0:00:00\u001b[0m\n",
            "\u001b[2K     \u001b[90m━━━━━━━━━━━━━━━━━━━━━━━━━━━━━━━━━━━━━━\u001b[0m \u001b[32m115.3/115.3 kB\u001b[0m \u001b[31m12.5 MB/s\u001b[0m eta \u001b[36m0:00:00\u001b[0m\n",
            "\u001b[2K     \u001b[90m━━━━━━━━━━━━━━━━━━━━━━━━━━━━━━━━━━━━━━\u001b[0m \u001b[32m194.1/194.1 kB\u001b[0m \u001b[31m18.1 MB/s\u001b[0m eta \u001b[36m0:00:00\u001b[0m\n",
            "\u001b[2K     \u001b[90m━━━━━━━━━━━━━━━━━━━━━━━━━━━━━━━━━━━━━━\u001b[0m \u001b[32m134.8/134.8 kB\u001b[0m \u001b[31m11.5 MB/s\u001b[0m eta \u001b[36m0:00:00\u001b[0m\n",
            "\u001b[2K     \u001b[90m━━━━━━━━━━━━━━━━━━━━━━━━━━━━━━━━━━━━━━\u001b[0m \u001b[32m268.8/268.8 kB\u001b[0m \u001b[31m22.5 MB/s\u001b[0m eta \u001b[36m0:00:00\u001b[0m\n",
            "\u001b[2K     \u001b[90m━━━━━━━━━━━━━━━━━━━━━━━━━━━━━━━━━━━━━━━━\u001b[0m \u001b[32m7.8/7.8 MB\u001b[0m \u001b[31m45.6 MB/s\u001b[0m eta \u001b[36m0:00:00\u001b[0m\n",
            "\u001b[2K     \u001b[90m━━━━━━━━━━━━━━━━━━━━━━━━━━━━━━━━━━━━━━━━\u001b[0m \u001b[32m1.3/1.3 MB\u001b[0m \u001b[31m41.7 MB/s\u001b[0m eta \u001b[36m0:00:00\u001b[0m\n",
            "\u001b[2K     \u001b[90m━━━━━━━━━━━━━━━━━━━━━━━━━━━━━━━━━━━━━━━━\u001b[0m \u001b[32m1.6/1.6 MB\u001b[0m \u001b[31m50.0 MB/s\u001b[0m eta \u001b[36m0:00:00\u001b[0m\n",
            "\u001b[?25hMounted at /content/gdrive\n"
          ]
        }
      ],
      "source": [
        "# All imports\n",
        "import os\n",
        "from pathlib import Path\n",
        "import fastbook\n",
        "fastbook.setup_book()\n",
        "from fastbook import *\n",
        "from fastai.vision.widgets import *"
      ]
    },
    {
      "cell_type": "code",
      "execution_count": null,
      "metadata": {
        "id": "_-f3G1PodTp4"
      },
      "outputs": [],
      "source": [
        "learn_inf = load_learner('cat_model.pkl')"
      ]
    },
    {
      "cell_type": "code",
      "execution_count": null,
      "metadata": {
        "id": "Zhntr_9EdYOZ"
      },
      "outputs": [],
      "source": [
        "btn_upload = widgets.FileUpload()"
      ]
    },
    {
      "cell_type": "code",
      "execution_count": null,
      "metadata": {
        "id": "uOoxKzaeeJTU"
      },
      "outputs": [],
      "source": [
        "btn_run = widgets.Button(description='Classify')\n",
        "out_pl = widgets.Output()\n",
        "out_pl.clear_output()\n",
        "lbl_pred = widgets.Label()"
      ]
    },
    {
      "cell_type": "code",
      "execution_count": null,
      "metadata": {
        "id": "IrZnfnRMeP5J"
      },
      "outputs": [],
      "source": [
        "def on_click_classify(change):\n",
        " img = PILImage.create(btn_upload.data[-1])\n",
        " out_pl.clear_output()\n",
        " with out_pl: display(img.to_thumb(128,128))\n",
        " pred,pred_idx,probs = learn_inf.predict(img)\n",
        " lbl_pred.value = f'Prediction: {pred}; Probability: {probs[pred_idx]:.04f}'\n",
        "btn_run.on_click(on_click_classify)"
      ]
    },
    {
      "cell_type": "code",
      "execution_count": null,
      "metadata": {
        "colab": {
          "base_uri": "https://localhost:8080/",
          "height": 241,
          "referenced_widgets": [
            "b0e7178de6f64016aedaeb087acb6d53",
            "7900c1a241474fc58c76ee780d743237",
            "4f13b37e0a4f4f06b27e3a70940040ae",
            "3be77b7322de4ae19fd2b675e9183e1a",
            "3e2baed67d0b46b5b8d3a7f41c8d333d",
            "d6e118eab4ee45c08467e3b4f0328a7e",
            "af26544e981742ad869db3791450c652",
            "7494241960694691b035d6a9d1c3ec30",
            "d3ec5da7d3db4717aa157d8a2c1fa7ca",
            "2012e8ac78e64c0cbaa8f45b229eb967",
            "64a558fccde44d2681ef6e6a8b50424d",
            "cd59463903474870891c57a6a61291a7",
            "2c09dbcb94564d19b129597516ccd234",
            "0c6de21b792845d09e203597e9f04ed7",
            "ed1a68e7d59547f88054434ceb8392ba",
            "48e6980ce1684837bd4b1e4dc343acde"
          ]
        },
        "id": "HQQExq1xeVP3",
        "outputId": "7093147c-0ef0-40b2-e9d5-aa498eb1b392"
      },
      "outputs": [
        {
          "data": {
            "text/html": [
              "\n",
              "<style>\n",
              "    /* Turns off some styling */\n",
              "    progress {\n",
              "        /* gets rid of default border in Firefox and Opera. */\n",
              "        border: none;\n",
              "        /* Needs to be in here for Safari polyfill so background images work as expected. */\n",
              "        background-size: auto;\n",
              "    }\n",
              "    progress:not([value]), progress:not([value])::-webkit-progress-bar {\n",
              "        background: repeating-linear-gradient(45deg, #7e7e7e, #7e7e7e 10px, #5c5c5c 10px, #5c5c5c 20px);\n",
              "    }\n",
              "    .progress-bar-interrupted, .progress-bar-interrupted::-webkit-progress-bar {\n",
              "        background: #F44336;\n",
              "    }\n",
              "</style>\n"
            ],
            "text/plain": [
              "<IPython.core.display.HTML object>"
            ]
          },
          "metadata": {},
          "output_type": "display_data"
        },
        {
          "data": {
            "text/html": [],
            "text/plain": [
              "<IPython.core.display.HTML object>"
            ]
          },
          "metadata": {},
          "output_type": "display_data"
        },
        {
          "data": {
            "text/html": [
              "\n",
              "<style>\n",
              "    /* Turns off some styling */\n",
              "    progress {\n",
              "        /* gets rid of default border in Firefox and Opera. */\n",
              "        border: none;\n",
              "        /* Needs to be in here for Safari polyfill so background images work as expected. */\n",
              "        background-size: auto;\n",
              "    }\n",
              "    progress:not([value]), progress:not([value])::-webkit-progress-bar {\n",
              "        background: repeating-linear-gradient(45deg, #7e7e7e, #7e7e7e 10px, #5c5c5c 10px, #5c5c5c 20px);\n",
              "    }\n",
              "    .progress-bar-interrupted, .progress-bar-interrupted::-webkit-progress-bar {\n",
              "        background: #F44336;\n",
              "    }\n",
              "</style>\n"
            ],
            "text/plain": [
              "<IPython.core.display.HTML object>"
            ]
          },
          "metadata": {},
          "output_type": "display_data"
        },
        {
          "data": {
            "text/html": [],
            "text/plain": [
              "<IPython.core.display.HTML object>"
            ]
          },
          "metadata": {},
          "output_type": "display_data"
        },
        {
          "data": {
            "application/vnd.jupyter.widget-view+json": {
              "model_id": "b0e7178de6f64016aedaeb087acb6d53",
              "version_major": 2,
              "version_minor": 0
            },
            "text/plain": [
              "VBox(children=(Label(value='Select your cat!'), FileUpload(value={'IMG_6308.JPG': {'metadata': {'name': 'IMG_6…"
            ]
          },
          "metadata": {},
          "output_type": "display_data"
        }
      ],
      "source": [
        "VBox([widgets.Label('Select your cat!'),\n",
        " btn_upload, btn_run, out_pl, lbl_pred])"
      ]
    }
  ],
  "metadata": {
    "colab": {
      "authorship_tag": "ABX9TyPxwuWzXr3902chZQP4uhBB",
      "include_colab_link": true,
      "provenance": []
    },
    "kernelspec": {
      "display_name": "Python 3",
      "name": "python3"
    },
    "language_info": {
      "name": "python"
    },
    "widgets": {
      "application/vnd.jupyter.widget-state+json": {
        "0c6de21b792845d09e203597e9f04ed7": {
          "model_module": "@jupyter-widgets/base",
          "model_module_version": "1.2.0",
          "model_name": "LayoutModel",
          "state": {
            "_model_module": "@jupyter-widgets/base",
            "_model_module_version": "1.2.0",
            "_model_name": "LayoutModel",
            "_view_count": null,
            "_view_module": "@jupyter-widgets/base",
            "_view_module_version": "1.2.0",
            "_view_name": "LayoutView",
            "align_content": null,
            "align_items": null,
            "align_self": null,
            "border": null,
            "bottom": null,
            "display": null,
            "flex": null,
            "flex_flow": null,
            "grid_area": null,
            "grid_auto_columns": null,
            "grid_auto_flow": null,
            "grid_auto_rows": null,
            "grid_column": null,
            "grid_gap": null,
            "grid_row": null,
            "grid_template_areas": null,
            "grid_template_columns": null,
            "grid_template_rows": null,
            "height": null,
            "justify_content": null,
            "justify_items": null,
            "left": null,
            "margin": null,
            "max_height": null,
            "max_width": null,
            "min_height": null,
            "min_width": null,
            "object_fit": null,
            "object_position": null,
            "order": null,
            "overflow": null,
            "overflow_x": null,
            "overflow_y": null,
            "padding": null,
            "right": null,
            "top": null,
            "visibility": null,
            "width": null
          }
        },
        "2012e8ac78e64c0cbaa8f45b229eb967": {
          "model_module": "@jupyter-widgets/base",
          "model_module_version": "1.2.0",
          "model_name": "LayoutModel",
          "state": {
            "_model_module": "@jupyter-widgets/base",
            "_model_module_version": "1.2.0",
            "_model_name": "LayoutModel",
            "_view_count": null,
            "_view_module": "@jupyter-widgets/base",
            "_view_module_version": "1.2.0",
            "_view_name": "LayoutView",
            "align_content": null,
            "align_items": null,
            "align_self": null,
            "border": null,
            "bottom": null,
            "display": null,
            "flex": null,
            "flex_flow": null,
            "grid_area": null,
            "grid_auto_columns": null,
            "grid_auto_flow": null,
            "grid_auto_rows": null,
            "grid_column": null,
            "grid_gap": null,
            "grid_row": null,
            "grid_template_areas": null,
            "grid_template_columns": null,
            "grid_template_rows": null,
            "height": null,
            "justify_content": null,
            "justify_items": null,
            "left": null,
            "margin": null,
            "max_height": null,
            "max_width": null,
            "min_height": null,
            "min_width": null,
            "object_fit": null,
            "object_position": null,
            "order": null,
            "overflow": null,
            "overflow_x": null,
            "overflow_y": null,
            "padding": null,
            "right": null,
            "top": null,
            "visibility": null,
            "width": null
          }
        },
        "2c09dbcb94564d19b129597516ccd234": {
          "model_module": "@jupyter-widgets/controls",
          "model_module_version": "1.5.0",
          "model_name": "ButtonStyleModel",
          "state": {
            "_model_module": "@jupyter-widgets/controls",
            "_model_module_version": "1.5.0",
            "_model_name": "ButtonStyleModel",
            "_view_count": null,
            "_view_module": "@jupyter-widgets/base",
            "_view_module_version": "1.2.0",
            "_view_name": "StyleView",
            "button_color": null,
            "font_weight": ""
          }
        },
        "3be77b7322de4ae19fd2b675e9183e1a": {
          "model_module": "@jupyter-widgets/controls",
          "model_module_version": "1.5.0",
          "model_name": "ButtonModel",
          "state": {
            "_dom_classes": [],
            "_model_module": "@jupyter-widgets/controls",
            "_model_module_version": "1.5.0",
            "_model_name": "ButtonModel",
            "_view_count": null,
            "_view_module": "@jupyter-widgets/controls",
            "_view_module_version": "1.5.0",
            "_view_name": "ButtonView",
            "button_style": "",
            "description": "Classify",
            "disabled": false,
            "icon": "",
            "layout": "IPY_MODEL_cd59463903474870891c57a6a61291a7",
            "style": "IPY_MODEL_2c09dbcb94564d19b129597516ccd234",
            "tooltip": ""
          }
        },
        "3e2baed67d0b46b5b8d3a7f41c8d333d": {
          "model_module": "@jupyter-widgets/output",
          "model_module_version": "1.0.0",
          "model_name": "OutputModel",
          "state": {
            "_dom_classes": [],
            "_model_module": "@jupyter-widgets/output",
            "_model_module_version": "1.0.0",
            "_model_name": "OutputModel",
            "_view_count": null,
            "_view_module": "@jupyter-widgets/output",
            "_view_module_version": "1.0.0",
            "_view_name": "OutputView",
            "layout": "IPY_MODEL_48e6980ce1684837bd4b1e4dc343acde",
            "msg_id": "",
            "outputs": [
              {
                "data": {
                  "image/png": "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\n",
                  "text/plain": "<PIL.Image.Image image mode=RGB size=128x96>"
                },
                "metadata": {},
                "output_type": "display_data"
              }
            ]
          }
        },
        "48e6980ce1684837bd4b1e4dc343acde": {
          "model_module": "@jupyter-widgets/base",
          "model_module_version": "1.2.0",
          "model_name": "LayoutModel",
          "state": {
            "_model_module": "@jupyter-widgets/base",
            "_model_module_version": "1.2.0",
            "_model_name": "LayoutModel",
            "_view_count": null,
            "_view_module": "@jupyter-widgets/base",
            "_view_module_version": "1.2.0",
            "_view_name": "LayoutView",
            "align_content": null,
            "align_items": null,
            "align_self": null,
            "border": null,
            "bottom": null,
            "display": null,
            "flex": null,
            "flex_flow": null,
            "grid_area": null,
            "grid_auto_columns": null,
            "grid_auto_flow": null,
            "grid_auto_rows": null,
            "grid_column": null,
            "grid_gap": null,
            "grid_row": null,
            "grid_template_areas": null,
            "grid_template_columns": null,
            "grid_template_rows": null,
            "height": null,
            "justify_content": null,
            "justify_items": null,
            "left": null,
            "margin": null,
            "max_height": null,
            "max_width": null,
            "min_height": null,
            "min_width": null,
            "object_fit": null,
            "object_position": null,
            "order": null,
            "overflow": null,
            "overflow_x": null,
            "overflow_y": null,
            "padding": null,
            "right": null,
            "top": null,
            "visibility": null,
            "width": null
          }
        },
        "4f13b37e0a4f4f06b27e3a70940040ae": {
          "model_module": "@jupyter-widgets/controls",
          "model_module_version": "1.5.0",
          "model_name": "FileUploadModel",
          "state": {
            "_counter": 1,
            "_dom_classes": [],
            "_model_module": "@jupyter-widgets/controls",
            "_model_module_version": "1.5.0",
            "_model_name": "FileUploadModel",
            "_view_count": null,
            "_view_module": "@jupyter-widgets/controls",
            "_view_module_version": "1.5.0",
            "_view_name": "FileUploadView",
            "accept": "",
            "button_style": "",
            "data": [
              null
            ],
            "description": "Upload",
            "description_tooltip": null,
            "disabled": false,
            "error": "",
            "icon": "upload",
            "layout": "IPY_MODEL_2012e8ac78e64c0cbaa8f45b229eb967",
            "metadata": [
              {
                "lastModified": 1656852600000,
                "name": "IMG_6308.JPG",
                "size": 3959449,
                "type": "image/jpeg"
              }
            ],
            "multiple": false,
            "style": "IPY_MODEL_64a558fccde44d2681ef6e6a8b50424d"
          }
        },
        "64a558fccde44d2681ef6e6a8b50424d": {
          "model_module": "@jupyter-widgets/controls",
          "model_module_version": "1.5.0",
          "model_name": "ButtonStyleModel",
          "state": {
            "_model_module": "@jupyter-widgets/controls",
            "_model_module_version": "1.5.0",
            "_model_name": "ButtonStyleModel",
            "_view_count": null,
            "_view_module": "@jupyter-widgets/base",
            "_view_module_version": "1.2.0",
            "_view_name": "StyleView",
            "button_color": null,
            "font_weight": ""
          }
        },
        "7494241960694691b035d6a9d1c3ec30": {
          "model_module": "@jupyter-widgets/base",
          "model_module_version": "1.2.0",
          "model_name": "LayoutModel",
          "state": {
            "_model_module": "@jupyter-widgets/base",
            "_model_module_version": "1.2.0",
            "_model_name": "LayoutModel",
            "_view_count": null,
            "_view_module": "@jupyter-widgets/base",
            "_view_module_version": "1.2.0",
            "_view_name": "LayoutView",
            "align_content": null,
            "align_items": null,
            "align_self": null,
            "border": null,
            "bottom": null,
            "display": null,
            "flex": null,
            "flex_flow": null,
            "grid_area": null,
            "grid_auto_columns": null,
            "grid_auto_flow": null,
            "grid_auto_rows": null,
            "grid_column": null,
            "grid_gap": null,
            "grid_row": null,
            "grid_template_areas": null,
            "grid_template_columns": null,
            "grid_template_rows": null,
            "height": null,
            "justify_content": null,
            "justify_items": null,
            "left": null,
            "margin": null,
            "max_height": null,
            "max_width": null,
            "min_height": null,
            "min_width": null,
            "object_fit": null,
            "object_position": null,
            "order": null,
            "overflow": null,
            "overflow_x": null,
            "overflow_y": null,
            "padding": null,
            "right": null,
            "top": null,
            "visibility": null,
            "width": null
          }
        },
        "7900c1a241474fc58c76ee780d743237": {
          "model_module": "@jupyter-widgets/controls",
          "model_module_version": "1.5.0",
          "model_name": "LabelModel",
          "state": {
            "_dom_classes": [],
            "_model_module": "@jupyter-widgets/controls",
            "_model_module_version": "1.5.0",
            "_model_name": "LabelModel",
            "_view_count": null,
            "_view_module": "@jupyter-widgets/controls",
            "_view_module_version": "1.5.0",
            "_view_name": "LabelView",
            "description": "",
            "description_tooltip": null,
            "layout": "IPY_MODEL_7494241960694691b035d6a9d1c3ec30",
            "placeholder": "​",
            "style": "IPY_MODEL_d3ec5da7d3db4717aa157d8a2c1fa7ca",
            "value": "Select your cat!"
          }
        },
        "af26544e981742ad869db3791450c652": {
          "model_module": "@jupyter-widgets/base",
          "model_module_version": "1.2.0",
          "model_name": "LayoutModel",
          "state": {
            "_model_module": "@jupyter-widgets/base",
            "_model_module_version": "1.2.0",
            "_model_name": "LayoutModel",
            "_view_count": null,
            "_view_module": "@jupyter-widgets/base",
            "_view_module_version": "1.2.0",
            "_view_name": "LayoutView",
            "align_content": null,
            "align_items": null,
            "align_self": null,
            "border": null,
            "bottom": null,
            "display": null,
            "flex": null,
            "flex_flow": null,
            "grid_area": null,
            "grid_auto_columns": null,
            "grid_auto_flow": null,
            "grid_auto_rows": null,
            "grid_column": null,
            "grid_gap": null,
            "grid_row": null,
            "grid_template_areas": null,
            "grid_template_columns": null,
            "grid_template_rows": null,
            "height": null,
            "justify_content": null,
            "justify_items": null,
            "left": null,
            "margin": null,
            "max_height": null,
            "max_width": null,
            "min_height": null,
            "min_width": null,
            "object_fit": null,
            "object_position": null,
            "order": null,
            "overflow": null,
            "overflow_x": null,
            "overflow_y": null,
            "padding": null,
            "right": null,
            "top": null,
            "visibility": null,
            "width": null
          }
        },
        "b0e7178de6f64016aedaeb087acb6d53": {
          "model_module": "@jupyter-widgets/controls",
          "model_module_version": "1.5.0",
          "model_name": "VBoxModel",
          "state": {
            "_dom_classes": [],
            "_model_module": "@jupyter-widgets/controls",
            "_model_module_version": "1.5.0",
            "_model_name": "VBoxModel",
            "_view_count": null,
            "_view_module": "@jupyter-widgets/controls",
            "_view_module_version": "1.5.0",
            "_view_name": "VBoxView",
            "box_style": "",
            "children": [
              "IPY_MODEL_7900c1a241474fc58c76ee780d743237",
              "IPY_MODEL_4f13b37e0a4f4f06b27e3a70940040ae",
              "IPY_MODEL_3be77b7322de4ae19fd2b675e9183e1a",
              "IPY_MODEL_3e2baed67d0b46b5b8d3a7f41c8d333d",
              "IPY_MODEL_d6e118eab4ee45c08467e3b4f0328a7e"
            ],
            "layout": "IPY_MODEL_af26544e981742ad869db3791450c652"
          }
        },
        "cd59463903474870891c57a6a61291a7": {
          "model_module": "@jupyter-widgets/base",
          "model_module_version": "1.2.0",
          "model_name": "LayoutModel",
          "state": {
            "_model_module": "@jupyter-widgets/base",
            "_model_module_version": "1.2.0",
            "_model_name": "LayoutModel",
            "_view_count": null,
            "_view_module": "@jupyter-widgets/base",
            "_view_module_version": "1.2.0",
            "_view_name": "LayoutView",
            "align_content": null,
            "align_items": null,
            "align_self": null,
            "border": null,
            "bottom": null,
            "display": null,
            "flex": null,
            "flex_flow": null,
            "grid_area": null,
            "grid_auto_columns": null,
            "grid_auto_flow": null,
            "grid_auto_rows": null,
            "grid_column": null,
            "grid_gap": null,
            "grid_row": null,
            "grid_template_areas": null,
            "grid_template_columns": null,
            "grid_template_rows": null,
            "height": null,
            "justify_content": null,
            "justify_items": null,
            "left": null,
            "margin": null,
            "max_height": null,
            "max_width": null,
            "min_height": null,
            "min_width": null,
            "object_fit": null,
            "object_position": null,
            "order": null,
            "overflow": null,
            "overflow_x": null,
            "overflow_y": null,
            "padding": null,
            "right": null,
            "top": null,
            "visibility": null,
            "width": null
          }
        },
        "d3ec5da7d3db4717aa157d8a2c1fa7ca": {
          "model_module": "@jupyter-widgets/controls",
          "model_module_version": "1.5.0",
          "model_name": "DescriptionStyleModel",
          "state": {
            "_model_module": "@jupyter-widgets/controls",
            "_model_module_version": "1.5.0",
            "_model_name": "DescriptionStyleModel",
            "_view_count": null,
            "_view_module": "@jupyter-widgets/base",
            "_view_module_version": "1.2.0",
            "_view_name": "StyleView",
            "description_width": ""
          }
        },
        "d6e118eab4ee45c08467e3b4f0328a7e": {
          "model_module": "@jupyter-widgets/controls",
          "model_module_version": "1.5.0",
          "model_name": "LabelModel",
          "state": {
            "_dom_classes": [],
            "_model_module": "@jupyter-widgets/controls",
            "_model_module_version": "1.5.0",
            "_model_name": "LabelModel",
            "_view_count": null,
            "_view_module": "@jupyter-widgets/controls",
            "_view_module_version": "1.5.0",
            "_view_name": "LabelView",
            "description": "",
            "description_tooltip": null,
            "layout": "IPY_MODEL_0c6de21b792845d09e203597e9f04ed7",
            "placeholder": "​",
            "style": "IPY_MODEL_ed1a68e7d59547f88054434ceb8392ba",
            "value": "Prediction: bengal; Probability: 0.9890"
          }
        },
        "ed1a68e7d59547f88054434ceb8392ba": {
          "model_module": "@jupyter-widgets/controls",
          "model_module_version": "1.5.0",
          "model_name": "DescriptionStyleModel",
          "state": {
            "_model_module": "@jupyter-widgets/controls",
            "_model_module_version": "1.5.0",
            "_model_name": "DescriptionStyleModel",
            "_view_count": null,
            "_view_module": "@jupyter-widgets/base",
            "_view_module_version": "1.2.0",
            "_view_name": "StyleView",
            "description_width": ""
          }
        }
      }
    }
  },
  "nbformat": 4,
  "nbformat_minor": 0
}
